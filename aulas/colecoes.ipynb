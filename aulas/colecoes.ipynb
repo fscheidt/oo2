{
 "cells": [
  {
   "cell_type": "markdown",
   "id": "c2a63441",
   "metadata": {},
   "source": [
    "# Coleções\n",
    "Jupyter Notebook: **ipynb**\n",
    "\n",
    "## Listas"
   ]
  },
  {
   "cell_type": "code",
   "execution_count": 40,
   "id": "8a42d413",
   "metadata": {},
   "outputs": [
    {
     "name": "stdout",
     "output_type": "stream",
     "text": [
      "['joao', 'maria', 'alberto']\n",
      "<class 'list'>\n"
     ]
    }
   ],
   "source": [
    "alunos = [\"joao\", \"maria\", \"alberto\"]\n",
    "print(alunos)\n",
    "print(type(alunos))"
   ]
  },
  {
   "cell_type": "markdown",
   "id": "40501a5a",
   "metadata": {},
   "source": [
    "### Métodos da lista"
   ]
  },
  {
   "cell_type": "code",
   "execution_count": 41,
   "id": "bc6b3963",
   "metadata": {},
   "outputs": [
    {
     "data": {
      "text/plain": [
       "3"
      ]
     },
     "execution_count": 41,
     "metadata": {},
     "output_type": "execute_result"
    }
   ],
   "source": [
    "len(alunos)"
   ]
  },
  {
   "cell_type": "code",
   "execution_count": 42,
   "id": "7f3d9dc6",
   "metadata": {},
   "outputs": [
    {
     "data": {
      "text/plain": [
       "['alberto', 'joao', 'maria']"
      ]
     },
     "execution_count": 42,
     "metadata": {},
     "output_type": "execute_result"
    }
   ],
   "source": [
    "sorted(alunos)"
   ]
  },
  {
   "cell_type": "code",
   "execution_count": 43,
   "id": "126baf02",
   "metadata": {},
   "outputs": [],
   "source": [
    "# adiciona um item na lista\n",
    "alunos.append(\"jonas\")"
   ]
  },
  {
   "cell_type": "code",
   "execution_count": 44,
   "id": "405256be",
   "metadata": {},
   "outputs": [
    {
     "name": "stdout",
     "output_type": "stream",
     "text": [
      "['alberto', 'joao', 'jonas', 'maria']\n"
     ]
    }
   ],
   "source": [
    "# ordena itens da lista e salva no objeto lista\n",
    "alunos = sorted(alunos)\n",
    "print(alunos)"
   ]
  },
  {
   "cell_type": "code",
   "execution_count": 45,
   "id": "e9a0abfd",
   "metadata": {},
   "outputs": [
    {
     "data": {
      "text/plain": [
       "['alberto', 'joao', 'jonas']"
      ]
     },
     "execution_count": 45,
     "metadata": {},
     "output_type": "execute_result"
    }
   ],
   "source": [
    "alunos.pop() # remove o ultimo item da lista\n",
    "alunos"
   ]
  },
  {
   "cell_type": "code",
   "execution_count": 46,
   "id": "cdaf74f2",
   "metadata": {},
   "outputs": [
    {
     "data": {
      "text/plain": [
       "['joao', 'jonas']"
      ]
     },
     "execution_count": 46,
     "metadata": {},
     "output_type": "execute_result"
    }
   ],
   "source": [
    "alunos.pop(0) # remove o primeiro item da lista\n",
    "alunos"
   ]
  },
  {
   "cell_type": "code",
   "execution_count": 49,
   "id": "c2d8c944",
   "metadata": {},
   "outputs": [
    {
     "data": {
      "text/plain": [
       "['joao', 'maria', 'alberto']"
      ]
     },
     "execution_count": 49,
     "metadata": {},
     "output_type": "execute_result"
    }
   ],
   "source": [
    "alunos = [\"joao\", \"maria\", \"alberto\"]\n",
    "alunos"
   ]
  },
  {
   "cell_type": "markdown",
   "id": "25846ae4",
   "metadata": {},
   "source": [
    "### Iteração"
   ]
  },
  {
   "cell_type": "code",
   "execution_count": 51,
   "id": "5183c7e0",
   "metadata": {},
   "outputs": [
    {
     "name": "stdout",
     "output_type": "stream",
     "text": [
      "JOAO\n",
      "MARIA\n",
      "ALBERTO\n"
     ]
    }
   ],
   "source": [
    "for a in alunos:\n",
    "    print(a.upper())"
   ]
  },
  {
   "cell_type": "code",
   "execution_count": 55,
   "id": "15c25b86",
   "metadata": {},
   "outputs": [
    {
     "name": "stdout",
     "output_type": "stream",
     "text": [
      "['JOAO', 'MARIA', 'ALBERTO']\n",
      "['joao', 'maria', 'alberto']\n"
     ]
    }
   ],
   "source": [
    "# list comprehension\n",
    "lista = [a.upper() for a in alunos]\n",
    "print(lista)\n",
    "print(alunos)"
   ]
  },
  {
   "cell_type": "markdown",
   "id": "6ddcbc72",
   "metadata": {},
   "source": [
    "## Dicionários"
   ]
  },
  {
   "cell_type": "code",
   "execution_count": 56,
   "id": "127b36b6",
   "metadata": {},
   "outputs": [
    {
     "name": "stdout",
     "output_type": "stream",
     "text": [
      "<class 'dict'>\n",
      "{'maria': 'A'}\n"
     ]
    }
   ],
   "source": [
    "conceitos = { \"maria\": \"A\" }\n",
    "print(type(conceitos))\n",
    "print(conceitos)"
   ]
  },
  {
   "cell_type": "code",
   "execution_count": 60,
   "id": "98188c8a",
   "metadata": {},
   "outputs": [
    {
     "data": {
      "text/plain": [
       "{'maria': 'A', 'joao': 'B', 'alberto': 'C'}"
      ]
     },
     "execution_count": 60,
     "metadata": {},
     "output_type": "execute_result"
    }
   ],
   "source": [
    "conceitos = { \n",
    "    \"maria\": \"A\",\n",
    "    \"joao\": \"B\",\n",
    "    \"alberto\": \"C\",\n",
    "}\n",
    "conceitos"
   ]
  },
  {
   "cell_type": "code",
   "execution_count": 61,
   "id": "8f52d988",
   "metadata": {},
   "outputs": [
    {
     "data": {
      "text/plain": [
       "'C'"
      ]
     },
     "execution_count": 61,
     "metadata": {},
     "output_type": "execute_result"
    }
   ],
   "source": [
    "conceitos.get(\"alberto\")"
   ]
  },
  {
   "cell_type": "code",
   "execution_count": 63,
   "id": "dfec8d03",
   "metadata": {},
   "outputs": [
    {
     "data": {
      "text/plain": [
       "'C'"
      ]
     },
     "execution_count": 63,
     "metadata": {},
     "output_type": "execute_result"
    }
   ],
   "source": [
    "conceitos[\"alberto\"]"
   ]
  },
  {
   "cell_type": "code",
   "execution_count": null,
   "id": "957eb2fc",
   "metadata": {},
   "outputs": [
    {
     "data": {
      "text/plain": [
       "{'maria': 'A', 'joao': 'B', 'alberto': 'A'}"
      ]
     },
     "execution_count": 64,
     "metadata": {},
     "output_type": "execute_result"
    }
   ],
   "source": [
    "# atribui um novo valor \n",
    "conceitos[\"alberto\"] = \"A\"\n",
    "conceitos"
   ]
  },
  {
   "cell_type": "code",
   "execution_count": 65,
   "id": "bb40162b",
   "metadata": {},
   "outputs": [
    {
     "data": {
      "text/plain": [
       "{'maria': 'A', 'joao': 'B', 'alberto': 'A', 'laura': 'D'}"
      ]
     },
     "execution_count": 65,
     "metadata": {},
     "output_type": "execute_result"
    }
   ],
   "source": [
    "conceitos[\"laura\"] = \"D\"\n",
    "conceitos"
   ]
  },
  {
   "cell_type": "code",
   "execution_count": 68,
   "id": "b314a9a6",
   "metadata": {},
   "outputs": [
    {
     "data": {
      "text/plain": [
       "['laura', 'joao']"
      ]
     },
     "execution_count": 68,
     "metadata": {},
     "output_type": "execute_result"
    }
   ],
   "source": [
    "# dicionário chave (str) valor (lista)\n",
    "conceitos = { \n",
    "    \"A\": [\"maria\", \"alberto\"],\n",
    "    \"B\": [\"laura\", \"joao\"],\n",
    "}\n",
    "conceitos.get(\"B\")"
   ]
  },
  {
   "cell_type": "code",
   "execution_count": null,
   "id": "75e1c886",
   "metadata": {},
   "outputs": [
    {
     "data": {
      "text/plain": [
       "[]"
      ]
     },
     "execution_count": 70,
     "metadata": {},
     "output_type": "execute_result"
    }
   ],
   "source": [
    "# se nao encontrar a chave \"D\" retorna uma lista vazia\n",
    "conceitos.get(\"D\", [])"
   ]
  },
  {
   "cell_type": "markdown",
   "id": "ccba9e56",
   "metadata": {},
   "source": [
    "### Iteração"
   ]
  },
  {
   "cell_type": "code",
   "execution_count": 74,
   "id": "ba403af3",
   "metadata": {},
   "outputs": [
    {
     "name": "stdout",
     "output_type": "stream",
     "text": [
      "A  =>  ['maria', 'alberto']\n",
      "B  =>  ['laura', 'joao']\n"
     ]
    }
   ],
   "source": [
    "# k == key, v == value\n",
    "for k,v in conceitos.items():\n",
    "    print(k, \" => \", v)"
   ]
  },
  {
   "cell_type": "code",
   "execution_count": 75,
   "id": "42435d74",
   "metadata": {},
   "outputs": [
    {
     "data": {
      "text/plain": [
       "2"
      ]
     },
     "execution_count": 75,
     "metadata": {},
     "output_type": "execute_result"
    }
   ],
   "source": [
    "len(conceitos)"
   ]
  },
  {
   "cell_type": "markdown",
   "id": "ee69aa7a",
   "metadata": {},
   "source": [
    "## SET"
   ]
  },
  {
   "cell_type": "code",
   "execution_count": 81,
   "id": "a0d5dd2f",
   "metadata": {},
   "outputs": [
    {
     "name": "stdout",
     "output_type": "stream",
     "text": [
      "<class 'set'>\n"
     ]
    },
    {
     "data": {
      "text/plain": [
       "{'alberto', 'joao', 'maria'}"
      ]
     },
     "execution_count": 81,
     "metadata": {},
     "output_type": "execute_result"
    }
   ],
   "source": [
    "# set não permite itens duplicados\n",
    "alunos = set([\"joao\", \"maria\", \"alberto\", \"maria\"])\n",
    "print(type(alunos))\n",
    "alunos"
   ]
  },
  {
   "cell_type": "code",
   "execution_count": 85,
   "id": "a3b59bf0",
   "metadata": {},
   "outputs": [
    {
     "data": {
      "text/plain": [
       "{'alberto', 'janaina', 'joao', 'maria'}"
      ]
     },
     "execution_count": 85,
     "metadata": {},
     "output_type": "execute_result"
    }
   ],
   "source": [
    "alunos.add(\"janaina\")\n",
    "alunos"
   ]
  },
  {
   "cell_type": "code",
   "execution_count": 86,
   "id": "eca3169a",
   "metadata": {},
   "outputs": [
    {
     "data": {
      "text/plain": [
       "4"
      ]
     },
     "execution_count": 86,
     "metadata": {},
     "output_type": "execute_result"
    }
   ],
   "source": [
    "len(alunos)"
   ]
  },
  {
   "cell_type": "code",
   "execution_count": 87,
   "id": "f8fd5fed",
   "metadata": {},
   "outputs": [],
   "source": [
    "### Iteração"
   ]
  },
  {
   "cell_type": "code",
   "execution_count": 89,
   "id": "45211c23",
   "metadata": {},
   "outputs": [
    {
     "name": "stdout",
     "output_type": "stream",
     "text": [
      "JOAO\n",
      "MARIA\n",
      "JANAINA\n",
      "ALBERTO\n"
     ]
    }
   ],
   "source": [
    "for a in alunos:\n",
    "    print(a.upper())"
   ]
  }
 ],
 "metadata": {
  "kernelspec": {
   "display_name": "env",
   "language": "python",
   "name": "python3"
  },
  "language_info": {
   "codemirror_mode": {
    "name": "ipython",
    "version": 3
   },
   "file_extension": ".py",
   "mimetype": "text/x-python",
   "name": "python",
   "nbconvert_exporter": "python",
   "pygments_lexer": "ipython3",
   "version": "3.13.2"
  }
 },
 "nbformat": 4,
 "nbformat_minor": 5
}
