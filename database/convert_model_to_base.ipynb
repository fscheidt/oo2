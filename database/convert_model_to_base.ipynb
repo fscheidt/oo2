{
 "cells": [
  {
   "cell_type": "code",
   "execution_count": 4,
   "id": "a636429e",
   "metadata": {},
   "outputs": [],
   "source": [
    "from sqlalchemy import Column, Integer, String, Boolean, ForeignKey\n",
    "from sqlalchemy.orm import relationship, declarative_base\n",
    "Base = declarative_base()"
   ]
  },
  {
   "cell_type": "markdown",
   "id": "5c093a28",
   "metadata": {},
   "source": [
    "## Classes (models)"
   ]
  },
  {
   "cell_type": "code",
   "execution_count": 5,
   "id": "79684315",
   "metadata": {},
   "outputs": [],
   "source": [
    "class Filme:\n",
    "    \"\"\" \n",
    "    Classe Filme usada na aplicação (nicegui)\n",
    "    \"\"\"\n",
    "    def __init__(self,\n",
    "        titulo: str,\n",
    "        ano: int,\n",
    "        diretor: str = None,\n",
    "        pais_origem: str = None):\n",
    "        \n",
    "        self.id: int = None\n",
    "        self.titulo: str = titulo\n",
    "        self.ano: int = ano\n",
    "        self.diretor: str = diretor\n",
    "        self.pais_origem: str = pais_origem\n",
    "        \n",
    "        def __repr__(self):\n",
    "            return f\"<Filme(titulo={self.titulo}, ano={self.ano})>\"\n",
    "\n",
    "\n",
    "class FilmeBase(Base):\n",
    "    \"\"\" \n",
    "    Classe FilmeBase é usada pelo SQLAlchemy para mapear a tabela filmes \n",
    "    \"\"\"\n",
    "    __tablename__ = \"filmes\"\n",
    "    id = Column(Integer, primary_key=True, autoincrement=True)\n",
    "    titulo = Column(String, nullable=False)\n",
    "    ano = Column(Integer, nullable=False)\n",
    "    diretor = Column(String, nullable=False)\n",
    "    pais_origem = Column(String, nullable=False)\n",
    "    \n",
    "    def __repr__(self):\n",
    "        \"\"\" \n",
    "        Método (opcional) para printar o objeto filme (debug) \n",
    "        \"\"\"\n",
    "        return f\"\"\"<FilmeBase⛁\n",
    "    id={self.id}, \n",
    "    titulo={self.titulo}, \n",
    "    diretor={self.diretor},\n",
    "    pais_origem={self.pais_origem},\n",
    "    ano={self.ano})>\"\"\"\n"
   ]
  },
  {
   "cell_type": "markdown",
   "id": "751c6967",
   "metadata": {},
   "source": [
    "### Exemplo: instancia um filme"
   ]
  },
  {
   "cell_type": "code",
   "execution_count": 7,
   "id": "25cd2149",
   "metadata": {},
   "outputs": [
    {
     "name": "stdout",
     "output_type": "stream",
     "text": [
      "<FilmeBase⛁\n",
      "    id=None, \n",
      "    titulo=Avatar, \n",
      "    diretor=Matheus,\n",
      "    pais_origem=USA,\n",
      "    ano=2009)>\n"
     ]
    }
   ],
   "source": [
    "filme = Filme(\n",
    "        titulo=\"Avatar\",\n",
    "        ano=2009,\n",
    "        diretor=\"Matheus\",\n",
    "        pais_origem=\"USA\",\n",
    "    )\n",
    "\n",
    "# Cria uma instancia da classe FilmeBase usando classe Filme\n",
    "filme_db = FilmeBase(**filme.__dict__)\n",
    "\n",
    "print(filme_db)"
   ]
  },
  {
   "cell_type": "markdown",
   "id": "e7dabd28",
   "metadata": {},
   "source": [
    "----\n",
    "\n",
    "### Arquivo: crud.py\n",
    "\n",
    "*Atualizar os métodos:*"
   ]
  },
  {
   "cell_type": "markdown",
   "id": "e1b6b157",
   "metadata": {},
   "source": [
    "```python\n",
    "def add_filme(db: Session, filme: Filme):\n",
    "\n",
    "    filme_base = FilmeBase(**filme.__dict__)  # <==\n",
    "\n",
    "    db.add(filme_base)  # insere na tabela\n",
    "\n",
    "    db.commit()    # confirma a transação \n",
    "\n",
    "```"
   ]
  }
 ],
 "metadata": {
  "kernelspec": {
   "display_name": "env",
   "language": "python",
   "name": "python3"
  },
  "language_info": {
   "codemirror_mode": {
    "name": "ipython",
    "version": 3
   },
   "file_extension": ".py",
   "mimetype": "text/x-python",
   "name": "python",
   "nbconvert_exporter": "python",
   "pygments_lexer": "ipython3",
   "version": "3.13.2"
  }
 },
 "nbformat": 4,
 "nbformat_minor": 5
}
